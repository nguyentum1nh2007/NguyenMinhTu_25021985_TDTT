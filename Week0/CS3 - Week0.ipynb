{
  "metadata": {
    "kernelspec": {
      "name": "python",
      "display_name": "Python (Pyodide)",
      "language": "python"
    },
    "language_info": {
      "codemirror_mode": {
        "name": "python",
        "version": 3
      },
      "file_extension": ".py",
      "mimetype": "text/x-python",
      "name": "python",
      "nbconvert_exporter": "python",
      "pygments_lexer": "ipython3",
      "version": "3.8"
    }
  },
  "nbformat_minor": 5,
  "nbformat": 4,
  "cells": [
    {
      "id": "73b9ad46-e03b-43e8-9325-e277ed313ade",
      "cell_type": "code",
      "source": "a = 7 # assign value\nb = 5 # assign value\nc = a - b # calculate the difference\nprint(c) \n\"\"\"\nCalculate the difference between a and b.\n\"\"\"",
      "metadata": {
        "trusted": true
      },
      "outputs": [
        {
          "name": "stdout",
          "output_type": "stream",
          "text": "2\n"
        },
        {
          "execution_count": 6,
          "output_type": "execute_result",
          "data": {
            "text/plain": "'\\nCalculate the difference between a and b.\\n'"
          },
          "metadata": {}
        }
      ],
      "execution_count": 6
    },
    {
      "id": "158844fb-042d-4691-9bc2-1a12b49f86e4",
      "cell_type": "code",
      "source": "city = \"Hà Nội\" # assign the city name\nyear = 2025 # assign the year\nprint(\"Thành phố: \", city, \" - Năm: \", year) \n# Display the city name and the current year, both values are stored in the memory.",
      "metadata": {
        "trusted": true
      },
      "outputs": [
        {
          "name": "stdout",
          "output_type": "stream",
          "text": "Thành phố:  Hà Nội  - Năm:  2025\n"
        }
      ],
      "execution_count": 3
    },
    {
      "id": "e125e27e-629a-4a74-a17e-fcbec7e10af6",
      "cell_type": "code",
      "source": "n = 4 # assign the value\nt = 0 # assign the value\nfor i in range(1, n+1): # for loop\n    t += i # for every instance of i, it will be added to the variable \"t\"\nprint(t) \n# Calculate the sum of the first nth natural numbers, commencing with 1.",
      "metadata": {
        "trusted": true
      },
      "outputs": [
        {
          "name": "stdout",
          "output_type": "stream",
          "text": "10\n"
        }
      ],
      "execution_count": 7
    },
    {
      "id": "d93e0c80-6db5-4373-96e0-bea1189cca38",
      "cell_type": "code",
      "source": "numbers = [1, 2, 3, 4] # create a list\nfor x in numbers: # for loop\n    if x % 2 == 0: # if x is divisible by 2\n        print(x, \"là số chẵn\") \n    else: # else\n        print(x, \"là số lẻ\") \n# check if the numbers in the given list is even or not.",
      "metadata": {
        "trusted": true
      },
      "outputs": [],
      "execution_count": null
    },
    {
      "id": "2f85e7a7-3e68-4231-af3c-041fde48050c",
      "cell_type": "code",
      "source": "animals = [\"cat\", \"dog\", \"cat\", \"bird\"] # create a list\ncount = 0 # assign a value\nfor a in animals: # for loop through the \"animals\" list\n    count += 1 # after every loop, increase the count value by 1\n \nprint(\"Số phần tử trong danh sách là:\", count) \n# calculate the size of a given list.",
      "metadata": {
        "trusted": true
      },
      "outputs": [],
      "execution_count": null
    },
    {
      "id": "cbfec8c2-f75e-422d-b1ff-e0e530233ab5",
      "cell_type": "code",
      "source": "=== AI Prediction System ===  \n1) Sentiment analysis  \n2) Weather forecast  \n3) Exit  \nPlease choose an option:  \n# This type of system is designed to look at a lot of information and find patterns that help it predict what's likely to happen next.",
      "metadata": {
        "trusted": true
      },
      "outputs": [],
      "execution_count": null
    },
    {
      "id": "288e01a3-7d6a-440f-9d7d-100a1ad9feed",
      "cell_type": "code",
      "source": "num = input(\"Nhập số: \") \nif num % 2 = 0: # maybe you meant '=='\nprint(\"Số chẵn\") # expect indented block \nelse \nprint(\"Số lẻ\") # expect indented block ",
      "metadata": {
        "trusted": true
      },
      "outputs": [
        {
          "ename": "<class 'IndentationError'>",
          "evalue": "expected an indented block after 'if' statement on line 2 (<ipython-input-9-91879edea9b7>, line 3)",
          "traceback": [
            "\u001b[0;36m  Cell \u001b[0;32mIn[9], line 3\u001b[0;36m\u001b[0m\n\u001b[0;31m    print(\"Số chẵn\")\u001b[0m\n\u001b[0m    ^\u001b[0m\n\u001b[0;31mIndentationError\u001b[0m\u001b[0;31m:\u001b[0m expected an indented block after 'if' statement on line 2\n"
          ],
          "output_type": "error"
        }
      ],
      "execution_count": 9
    },
    {
      "id": "f871c471-5c5b-4f7b-8bdd-e95a5a9fe682",
      "cell_type": "code",
      "source": "for i in range(3): \n    print(\"AI đang học lần\", i + 1) \n    print(\"Huấn luyện xong!\") \n# Printing a value a number of times.",
      "metadata": {
        "trusted": true
      },
      "outputs": [],
      "execution_count": null
    },
    {
      "id": "c423ac1b-84ee-4699-8576-a0659acd73f9",
      "cell_type": "code",
      "source": "for x in [\"cat\", \"dog\", \"fish\"]: \n    print(\"Dự đoán con vật:\", x) \n# Printing a value selected from the given list ",
      "metadata": {
        "trusted": true
      },
      "outputs": [],
      "execution_count": null
    },
    {
      "id": "fefc93b4-6bf1-4006-93a2-b9bdc89ca25a",
      "cell_type": "code",
      "source": "print \"=== AI Prediction System ===\"  \nprint(\"1) Sentiment analysis\"  \nprint(\"2) Weather forecast\"))  \nprint('3) Exit'  \nprint(\"Please choose an option:\")  \n# Prining the given value.",
      "metadata": {
        "trusted": true
      },
      "outputs": [],
      "execution_count": null
    }
  ]
}
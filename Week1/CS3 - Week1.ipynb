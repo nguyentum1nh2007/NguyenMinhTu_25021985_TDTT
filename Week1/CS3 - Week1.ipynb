{
  "cells": [
    {
      "cell_type": "code",
      "execution_count": 1,
      "id": "764a7081-9fb0-47b6-93bc-966a1ba70ca9",
      "metadata": {
        "trusted": true
      },
      "outputs": [
        {
          "name": "stdout",
          "output_type": "stream",
          "text": [
            "Hello World\n"
          ]
        }
      ],
      "source": [
        "print(\"Hello World\")"
      ]
    },
    {
      "cell_type": "code",
      "execution_count": 2,
      "id": "8e6f82f7-652c-4807-ba21-ad3ff386089c",
      "metadata": {
        "trusted": true
      },
      "outputs": [
        {
          "name": "stdout",
          "output_type": "stream",
          "text": [
            "Hello ad\n"
          ]
        }
      ],
      "source": [
        "name = str(input(\"Ten: \"))\n",
        "print('Hello', name)"
      ]
    },
    {
      "cell_type": "code",
      "execution_count": null,
      "id": "b9e4e2a0-bcaf-44de-acb0-95c6af9afd41",
      "metadata": {
        "trusted": true
      },
      "outputs": [],
      "source": [
        "a = int(input('a = '))\n",
        "b = int(input('b = '))\n",
        "\n",
        "print(\"Tong: \", a + b)\n",
        "print(\"Hieu: \", a - b)\n",
        "print(\"Tich: \", a * b)\n",
        "print(\"Thuong: \", a / b)\n",
        "print(\"Phan nguyen: \", a//b)\n",
        "print(\"Phan du: \", a % b)"
      ]
    },
    {
      "cell_type": "code",
      "execution_count": null,
      "id": "9f90397d-5adf-4a92-bc45-4cc1c52f6614",
      "metadata": {
        "trusted": true
      },
      "outputs": [],
      "source": [
        "a = input('Nhap: ')\n",
        "res = a.split(\" \")\n",
        "sum = 0\n",
        "for x in range(6):\n",
        "    if x < 3:\n",
        "        sum = sum + int(res[x])\n",
        "    else:\n",
        "        if x < 5:\n",
        "            sum = sum + int(res[x])*2\n",
        "        else:\n",
        "            sum = sum + int(res[x])*3\n",
        "        \n",
        "cont = str(sum/10).split(\".\")\n",
        "print(cont[0] + '.' + cont[1][0]) "
      ]
    },
    {
      "cell_type": "code",
      "execution_count": null,
      "id": "b934ce00-fa90-4c11-8ed3-111b601bc30d",
      "metadata": {
        "trusted": true
      },
      "outputs": [],
      "source": [
        "inp = input('Nhap: ')\n",
        "res = inp.split(\" \")\n",
        "print('So mu: ', int(res[0]) ** int(res[1]))\n"
      ]
    },
    {
      "cell_type": "code",
      "execution_count": null,
      "id": "cee72065-026e-441a-b705-e04a0230e5db",
      "metadata": {
        "trusted": true
      },
      "outputs": [],
      "source": [
        "alpha = input('Nhap: ')\n",
        "\n",
        "print(ord(alpha))\n",
        "print(alpha.upper())"
      ]
    },
    {
      "cell_type": "code",
      "execution_count": null,
      "id": "37df6aca-31ad-4bc1-833f-95b2be60e14a",
      "metadata": {
        "trusted": true
      },
      "outputs": [],
      "source": [
        "print(((13 ** 2) * 3) + 5)\n",
        "print(13**2*3 + 5 )"
      ]
    },
    {
      "cell_type": "code",
      "execution_count": null,
      "id": "ba67609f-c5d2-4a5e-87ad-93d291c5f373",
      "metadata": {
        "trusted": true
      },
      "outputs": [],
      "source": [
        "cel = int(input(\"Temperature C: \"))\n",
        "print((9/5)*cel + 32)"
      ]
    },
    {
      "cell_type": "code",
      "execution_count": null,
      "id": "01ce60d0-4a44-4682-bbda-913b1ff5d234",
      "metadata": {
        "trusted": true
      },
      "outputs": [],
      "source": [
        "x = int(input(\"Nhap gia tien: \"))\n",
        "lst = str(x*1.4 + 10).split('.')\n",
        "\n",
        "print(lst[0] + lst[1][0])\n"
      ]
    },
    {
      "cell_type": "code",
      "execution_count": null,
      "id": "fd8a97b5-a788-4741-a2a2-b511360b42e9",
      "metadata": {
        "trusted": true
      },
      "outputs": [],
      "source": [
        "str = (input(\"Nhap: \"))\n",
        "x = str.split(\" \")\n",
        "x = x[::-1]\n",
        "print(f'Hi {x[0]}, {x[1]} and {x[2]}')"
      ]
    },
    {
      "cell_type": "code",
      "execution_count": null,
      "id": "73df65a1-c470-493f-bae8-ded8ddb3e901",
      "metadata": {
        "trusted": true
      },
      "outputs": [],
      "source": [
        "h = int(input(\"Nhap gio: \"))\n",
        "m = int(input(\"Nhap phut: \"))\n",
        "s = h*3600 + m*60\n",
        "print(f'So giay: {s}')"
      ]
    },
    {
      "cell_type": "code",
      "execution_count": null,
      "id": "519d5c6d-1cde-4559-b81b-d23464889b58",
      "metadata": {
        "trusted": true
      },
      "outputs": [],
      "source": [
        "x = int(input(\"Do dai canh: \"))\n",
        "res = x*x*6\n",
        "\n",
        "print(f'So mieng dan: {res}')"
      ]
    },
    {
      "cell_type": "code",
      "execution_count": null,
      "id": "344fcae5-3065-48df-8df4-1915259f8b65",
      "metadata": {
        "trusted": true
      },
      "outputs": [],
      "source": [
        "a = int(input(\"Nhap a: \"))\n",
        "b = int(input(\"Nhap b: \"))\n",
        "if a < 0 or b < 0:\n",
        "    raise Exception(\"Invalid Value\")\n",
        "print(a*b)"
      ]
    },
    {
      "cell_type": "code",
      "execution_count": null,
      "id": "4a11c5a1-a68b-4c7d-89ca-66626e7ea4ef",
      "metadata": {
        "trusted": true
      },
      "outputs": [],
      "source": [
        "a = int(input(\"Nhap a: \"))\n",
        "b = int(input(\"Nhap b: \"))\n",
        "temp = a\n",
        "a = b\n",
        "b = temp"
      ]
    },
    {
      "cell_type": "code",
      "execution_count": null,
      "id": "e92908a0-8dea-4c4e-888a-10832aec9bd9",
      "metadata": {
        "trusted": true
      },
      "outputs": [],
      "source": [
        "n = int(input(\"Nhap so: \"))\n",
        "if n < 0:\n",
        "    raise Exception(\"Value Below 0\")\n",
        "print(\"Star Number: \", 6*n*(n-1) + 1)"
      ]
    },
    {
      "cell_type": "code",
      "execution_count": null,
      "id": "5cde797f-e77a-49e5-b67d-8db710d587fd",
      "metadata": {
        "trusted": true
      },
      "outputs": [],
      "source": [
        "lst = ['Spring', 'Summer', 'Autumn', 'Winter']\n",
        "for x in lst:\n",
        "    print(x)"
      ]
    },
    {
      "cell_type": "code",
      "execution_count": null,
      "id": "0cf4a3f4-3973-4a03-9d40-8bf4e5406df7",
      "metadata": {
        "trusted": true
      },
      "outputs": [],
      "source": [
        "n = 4\n",
        "for i in range(4):\n",
        "    print(\" \"*(n-1) + \"*\"*(2*i-1) + \" \"*(n-1))\n",
        "    n = n - 1\n"
      ]
    },
    {
      "cell_type": "code",
      "execution_count": null,
      "id": "3b720e37-d661-45e2-9882-71bc24adf0df",
      "metadata": {
        "trusted": true
      },
      "outputs": [],
      "source": [
        "print(\"###   # #      ###  ###\\n #    #   #     #    #  \\n #    #    #    #    #  \\n #    #   #     #    # \\n #    # #       #    #  \")"
      ]
    },
    {
      "cell_type": "code",
      "execution_count": null,
      "id": "52643708-93ad-4568-b46c-06235929bbf2",
      "metadata": {
        "trusted": true
      },
      "outputs": [],
      "source": [
        "arr = ['Monday', 'Tuesday', 'Wednesday', 'Thursday', 'Friday', 'Saturday', 'Sunday']\n",
        "for x in arr:\n",
        "    print(x)"
      ]
    },
    {
      "cell_type": "code",
      "execution_count": null,
      "id": "24b590ba-475c-46e6-a23c-f35465dc610c",
      "metadata": {
        "trusted": true
      },
      "outputs": [],
      "source": [
        "arr = ['January', 'February', 'March', 'April', 'May', 'June', 'July', 'August', 'September', 'October', 'November', 'December']\n",
        "for x in arr:\n",
        "    print(x)"
      ]
    },
    {
      "cell_type": "code",
      "execution_count": null,
      "id": "f2654f1a-d271-4e81-a1bc-789c06bc2ee0",
      "metadata": {
        "trusted": true
      },
      "outputs": [],
      "source": [
        "for i in range(10):\n",
        "    print(\"Hello, World!\")"
      ]
    },
    {
      "cell_type": "code",
      "execution_count": null,
      "id": "16a9d356-f09b-47bb-bf59-479ea3706407",
      "metadata": {
        "trusted": true
      },
      "outputs": [],
      "source": []
    }
  ],
  "metadata": {
    "kernelspec": {
      "display_name": "Python 3",
      "language": "python",
      "name": "python3"
    },
    "language_info": {
      "codemirror_mode": {
        "name": "ipython",
        "version": 3
      },
      "file_extension": ".py",
      "mimetype": "text/x-python",
      "name": "python",
      "nbconvert_exporter": "python",
      "pygments_lexer": "ipython3",
      "version": "3.13.7"
    }
  },
  "nbformat": 4,
  "nbformat_minor": 5
}

{
  "metadata": {
    "kernelspec": {
      "name": "python",
      "display_name": "Python (Pyodide)",
      "language": "python"
    },
    "language_info": {
      "codemirror_mode": {
        "name": "python",
        "version": 3
      },
      "file_extension": ".py",
      "mimetype": "text/x-python",
      "name": "python",
      "nbconvert_exporter": "python",
      "pygments_lexer": "ipython3",
      "version": "3.8"
    }
  },
  "nbformat_minor": 5,
  "nbformat": 4,
  "cells": [
    {
      "id": "726baf6f-3eee-4f16-9cfd-aa5df9570242",
      "cell_type": "code",
      "source": "a, b = input(\"Nhap: \").split()\na = int(a)\nb = int(b)\na = a ^ b #XOR\nb = a ^ b\na = a ^ b\nprint(f\"Gia tri sau: {a}, {b}\") ",
      "metadata": {
        "trusted": true
      },
      "outputs": [
        {
          "output_type": "stream",
          "name": "stdin",
          "text": "Nhap:  3 2\n"
        },
        {
          "name": "stdout",
          "output_type": "stream",
          "text": "Gia tri sau: 2, 3\n"
        }
      ],
      "execution_count": 4
    },
    {
      "id": "4c76e20e-3fbc-4694-807a-f317443779da",
      "cell_type": "code",
      "source": "x = int(input(\"Nhap so: \"))\nprint(x & (x-1) == 0)",
      "metadata": {
        "trusted": true
      },
      "outputs": [
        {
          "output_type": "stream",
          "name": "stdin",
          "text": "Nhap so:  2\n"
        },
        {
          "name": "stdout",
          "output_type": "stream",
          "text": "True\n"
        }
      ],
      "execution_count": 6
    },
    {
      "id": "7eaad7e8-5bff-4e7d-b57f-ceb38b392a19",
      "cell_type": "code",
      "source": "m, n = input(\"Nhap m va n: \").split(\" \")\nprint(f\"Ket qua: {int(m)//int(n)}\")",
      "metadata": {
        "trusted": true
      },
      "outputs": [
        {
          "output_type": "stream",
          "name": "stdin",
          "text": "Nhap m va n:  2 3\n"
        },
        {
          "name": "stdout",
          "output_type": "stream",
          "text": "Ket qua: 0\n"
        }
      ],
      "execution_count": 9
    },
    {
      "id": "34b6b47b-6105-4fa4-ac78-67a976b6c5fd",
      "cell_type": "code",
      "source": "m, n = input(\"Nhap m va n: \").split(\" \")\nprint(f\"Ket qua: {int(m)//int(n)+1}\")",
      "metadata": {
        "trusted": true
      },
      "outputs": [
        {
          "output_type": "stream",
          "name": "stdin",
          "text": "Nhap m va n:  2 3\n"
        },
        {
          "name": "stdout",
          "output_type": "stream",
          "text": "Ket qua: 1\n"
        }
      ],
      "execution_count": 11
    },
    {
      "id": "cef5bc5d-e9aa-4e77-bee2-e425f78ec101",
      "cell_type": "code",
      "source": "x = int(input(\"Nhap so: \"))\nif x % 2 == 0:\n    print(\"Even\")\nelse: \n    print(\"Odd\")",
      "metadata": {
        "trusted": true
      },
      "outputs": [
        {
          "output_type": "stream",
          "name": "stdin",
          "text": "Nhap so:  3\n"
        },
        {
          "name": "stdout",
          "output_type": "stream",
          "text": "Odd\n"
        }
      ],
      "execution_count": 12
    },
    {
      "id": "9bbd9649-c9dd-4a38-8072-b0ff653211b4",
      "cell_type": "code",
      "source": "a = int(input(\"Nhap a: \"))\nb = int(input(\"Nhap b: \"))\nif a < 0 and b < 0:\n    print(\"Yes\")\nelse:\n    print(\"No\")",
      "metadata": {
        "trusted": true
      },
      "outputs": [
        {
          "output_type": "stream",
          "name": "stdin",
          "text": "Nhap a:  -2\nNhap b:  -3\n"
        },
        {
          "name": "stdout",
          "output_type": "stream",
          "text": "Yes\n"
        }
      ],
      "execution_count": 14
    },
    {
      "id": "7dd39831-c94d-49bc-9286-2c70c94139a1",
      "cell_type": "code",
      "source": "a = str(input(\"Nhap a: \"))\nb = str(input(\"Nhap b: \"))\nif len(a) > len(b):\n    print(\"True\")\nelse:\n    print(\"False\")",
      "metadata": {
        "trusted": true
      },
      "outputs": [
        {
          "output_type": "stream",
          "name": "stdin",
          "text": "Nhap a:  kifoanf\nNhap b:  nfaf\n"
        },
        {
          "name": "stdout",
          "output_type": "stream",
          "text": "True\n"
        }
      ],
      "execution_count": 17
    },
    {
      "id": "0691271b-eeb3-4f50-8ea5-d1bbbe8ce287",
      "cell_type": "code",
      "source": "a, b, c = input(\"Nhap 3 so: \").split(\" \")\nif int(a) + int(b) < int(c) or int(a) + int(c) < int(b) or int(b) + int(c) < int(a):\n    print(\"No\")\nelse: print(\"Yes\")",
      "metadata": {
        "trusted": true
      },
      "outputs": [
        {
          "output_type": "stream",
          "name": "stdin",
          "text": "Nhap 3 so:  2 3 4\n"
        },
        {
          "name": "stdout",
          "output_type": "stream",
          "text": "Yes\n"
        }
      ],
      "execution_count": 15
    },
    {
      "id": "0a09e670-081e-4e05-be6d-0d05a7e8a71f",
      "cell_type": "code",
      "source": "a, b, c, d = input(\"Nhap so: \").split(\" \")\nprint(\"Gia tri lon nhat:\" +\" \"+ str(max(int(a), int(b), int(c), int(d))))",
      "metadata": {
        "trusted": true
      },
      "outputs": [
        {
          "output_type": "stream",
          "name": "stdin",
          "text": "Nhap so:  1 2 3 4\n"
        },
        {
          "name": "stdout",
          "output_type": "stream",
          "text": "Gia tri lon nhat: 4\n"
        }
      ],
      "execution_count": 16
    },
    {
      "id": "4b98cc5a-40cc-4bd5-9480-44e6054af7b8",
      "cell_type": "code",
      "source": "a, b, c = input(\"Nhap 3 so: \").split(\" \")\nif int(a) + int(b) < int(c) or int(a) + int(c) < int(b) or int(b) + int(c) < int(a):\n    print(\"Khong phai tam giac\")\nelse:\n    if a == b == c: print(\"Tam giac deu\")\n    elif a == b or b == c or a == c: print(\"Tam giac can\")\n    else: print(\"Tam giac thuong\")",
      "metadata": {
        "trusted": true
      },
      "outputs": [
        {
          "output_type": "stream",
          "name": "stdin",
          "text": "Nhap 3 so:  2 2 3\n"
        },
        {
          "name": "stdout",
          "output_type": "stream",
          "text": "Tam giac can\n"
        }
      ],
      "execution_count": 18
    },
    {
      "id": "e6db45a0-8b9e-4c88-a67b-e7257fe0e4b5",
      "cell_type": "code",
      "source": "x = int(input(\"Nhap nam: \"))\nif x % 4 == 0 and x % 100 != 0: print(\"Yes\")\nelif x % 400 == 0: print(\"Yes\")\nelse: print(\"No\")",
      "metadata": {
        "trusted": true
      },
      "outputs": [
        {
          "output_type": "stream",
          "name": "stdin",
          "text": "Nhap nam:  2500\n"
        },
        {
          "name": "stdout",
          "output_type": "stream",
          "text": "No\n"
        }
      ],
      "execution_count": 19
    },
    {
      "id": "62005a76-e6b8-4d4a-9d39-5519bcf371bb",
      "cell_type": "code",
      "source": "a, b = input(\"Nhap tham so lan luot: \").split(\" \")\nprint(f\"Dang phuong trinh y = {a}x + {b}\")\nif int(b) == 0: print(\"Vo nghiem\")\nelif int(a) == 0: print(\"Vo so nghiem\")\nelse:\n    x = -int(b)/int(a)\n    print(f\"Nghiem: {x}\")",
      "metadata": {
        "trusted": true
      },
      "outputs": [
        {
          "output_type": "stream",
          "name": "stdin",
          "text": "Nhap tham so lan luot:  2 3\n"
        },
        {
          "name": "stdout",
          "output_type": "stream",
          "text": "Dang phuong trinh y = 2x + 3\nNghiem: -1.5\n"
        }
      ],
      "execution_count": 20
    },
    {
      "id": "d8f5483f-203b-46fc-b197-af8dacca86ce",
      "cell_type": "code",
      "source": "x = float(input(\"Nhap diem trung binh: \"))\nif x >= 8.0: print(\"Gioi\")\nelif x >= 6.5: print(\"Kha\")\nelif x >= 5.0: print(\"Trung binh\")\nelse: print(\"Yeu\")",
      "metadata": {
        "trusted": true
      },
      "outputs": [
        {
          "output_type": "stream",
          "name": "stdin",
          "text": "Nhap diem trung binh:  8\n"
        },
        {
          "name": "stdout",
          "output_type": "stream",
          "text": "Gioi\n"
        }
      ],
      "execution_count": 23
    },
    {
      "id": "26b195ba-44eb-4f1c-8d8d-02a7eccbde67",
      "cell_type": "code",
      "source": "x = float(input(\"Nhap so thuc: \"))\nfloor_down = int(x)\nfloor_up = int(x)\nif floor_down < 0: floor_up -= 1\nelse: floor_up += 1\nfloor = int(x+0.5)\nprint(f\"Ket qua: {floor_up}, {floor_down} va {floor}\")",
      "metadata": {
        "trusted": true
      },
      "outputs": [
        {
          "output_type": "stream",
          "name": "stdin",
          "text": "Nhap so thuc:  4.2\n"
        },
        {
          "name": "stdout",
          "output_type": "stream",
          "text": "Ket qua: 5, 4 va 4\n"
        }
      ],
      "execution_count": 24
    },
    {
      "id": "970348bb-2e75-40c6-a88c-6d2039d79aca",
      "cell_type": "code",
      "source": "a, b, c, d = input(\"Nhap 4 so: \").split(\" \")\ndiff = int(b)/int(a)\nif diff == int(c)/int(b) == int(d)/int(c):\n    print(\"Cap so nhan\")\nelse: print(\"Khong phai cap so nhan\")",
      "metadata": {
        "trusted": true
      },
      "outputs": [
        {
          "output_type": "stream",
          "name": "stdin",
          "text": "Nhap 4 so:  1 3 9 27\n"
        },
        {
          "name": "stdout",
          "output_type": "stream",
          "text": "Cap so nhan\n"
        }
      ],
      "execution_count": 2
    },
    {
      "id": "2a204b8e-eeb4-47a1-98b7-9ca1d9950a04",
      "cell_type": "code",
      "source": "",
      "metadata": {
        "trusted": true
      },
      "outputs": [],
      "execution_count": null
    }
  ]
}
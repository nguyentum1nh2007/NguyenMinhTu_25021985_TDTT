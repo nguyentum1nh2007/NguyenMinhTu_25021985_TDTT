{
  "metadata": {
    "kernelspec": {
      "name": "python",
      "display_name": "Python (Pyodide)",
      "language": "python"
    },
    "language_info": {
      "codemirror_mode": {
        "name": "python",
        "version": 3
      },
      "file_extension": ".py",
      "mimetype": "text/x-python",
      "name": "python",
      "nbconvert_exporter": "python",
      "pygments_lexer": "ipython3",
      "version": "3.8"
    }
  },
  "nbformat_minor": 5,
  "nbformat": 4,
  "cells": [
    {
      "id": "474d7881-5b26-4162-a286-60d819ec3d63",
      "cell_type": "code",
      "source": "n = int(input(\"Nhap: \"))\nif n%2 == 0: print(f\"'{n}' la so chan\")\nelse: print(f\"'{n}' la so le\")",
      "metadata": {
        "trusted": true
      },
      "outputs": [
        {
          "output_type": "stream",
          "name": "stdin",
          "text": "Nhap:  3\n"
        },
        {
          "name": "stdout",
          "output_type": "stream",
          "text": "'3' la so le\n"
        }
      ],
      "execution_count": 1
    },
    {
      "id": "5c3a9ec2-1063-44c5-be0c-12de03ea62b6",
      "cell_type": "code",
      "source": "n = input(\"Nhap: \")\nif n[-1] == '5': print('True')\nelse: print('False')",
      "metadata": {
        "trusted": true
      },
      "outputs": [
        {
          "output_type": "stream",
          "name": "stdin",
          "text": "Nhap:  3555555555\n"
        },
        {
          "name": "stdout",
          "output_type": "stream",
          "text": "True\n"
        }
      ],
      "execution_count": 9
    },
    {
      "id": "bf9dd83b-ed3d-4426-a570-afc65d5f55c3",
      "cell_type": "code",
      "source": "n = int(input(\"Nhap: \"))\nif n% 15 == 0: print('True')\nelse: print('False')",
      "metadata": {
        "trusted": true
      },
      "outputs": [
        {
          "output_type": "stream",
          "name": "stdin",
          "text": "Nhap:  3\n"
        },
        {
          "name": "stdout",
          "output_type": "stream",
          "text": "False\n"
        }
      ],
      "execution_count": 11
    },
    {
      "id": "81ad7f2f-4b04-4f5c-b59e-e72da3f8d2ae",
      "cell_type": "code",
      "source": "from datetime import date\ncurrent_date = date.today()\n\ncurrent_year = current_date.year\n\nn = int(input(\"Nhap nam sinh: \"))\nif current_year - n >= 18: print(\"Du tuoi di bau cu.\")\nelse: print(\"Chua du tuoi di bau cu.\")",
      "metadata": {
        "trusted": true
      },
      "outputs": [
        {
          "output_type": "stream",
          "name": "stdin",
          "text": "Nhap nam sinh:  2000\n"
        },
        {
          "name": "stdout",
          "output_type": "stream",
          "text": "Du tuoi di bau cu.\n"
        }
      ],
      "execution_count": 12
    },
    {
      "id": "efd668dc-be9a-4b05-929e-ca4d8132c3ba",
      "cell_type": "code",
      "source": "a, b = input(\"Nhap a va b: \").split(\" \")\nif a == b: print(\"Bang nhau\")\nelse: print(max(a,b))",
      "metadata": {
        "trusted": true
      },
      "outputs": [
        {
          "output_type": "stream",
          "name": "stdin",
          "text": "Nhap a va b:  2 2\n"
        },
        {
          "name": "stdout",
          "output_type": "stream",
          "text": "Bang nhau\n"
        }
      ],
      "execution_count": 14
    },
    {
      "id": "312f4fdb-a303-43b6-bcfb-0b7af834562e",
      "cell_type": "code",
      "source": "x = input(\"Nhap: \")\nif x.isnumeric(): print(\"Chu so\")\nelif x.isalpha(): print(\"Chu cai\")\nelse: raise Exception(\"Khong hop le\")",
      "metadata": {
        "trusted": true
      },
      "outputs": [
        {
          "output_type": "stream",
          "name": "stdin",
          "text": "Nhap:  a\n"
        },
        {
          "name": "stdout",
          "output_type": "stream",
          "text": "Chu cai\n"
        }
      ],
      "execution_count": 16
    },
    {
      "id": "e2e63ab4-01c7-48ec-94fd-c2a4b33fb5b1",
      "cell_type": "code",
      "source": "n = float(input(\"Nhap: \"))\nif n < 0 or n > 10: raise Exception(\"Khong hop le\")\nelse:\n    if n < 5: print(\"Yeu\")\n    elif 5 <= n and n < 6.5: print(\"Trung binh\")\n    elif 6.5 <= n and n < 8: print(\"Kha\")\n    else: print(\"Gioi\")",
      "metadata": {
        "trusted": true
      },
      "outputs": [
        {
          "output_type": "stream",
          "name": "stdin",
          "text": "Nhap:  3.1\n"
        },
        {
          "name": "stdout",
          "output_type": "stream",
          "text": "Yeu\n"
        }
      ],
      "execution_count": 20
    },
    {
      "id": "580469cd-e555-4e72-bcf9-9303a6ae2c25",
      "cell_type": "code",
      "source": "x = int(input(\"Nhap nam: \"))\nif x % 400 == 0: print(f\"'{x}' la nam nhuan\")\nelif x % 4 == 0 and x % 100 != 0: print(f\"'{x}' la nam nhuan\")\nelse: print(f\"'{x}' khong la nam nhuan\")",
      "metadata": {
        "trusted": true
      },
      "outputs": [
        {
          "output_type": "stream",
          "name": "stdin",
          "text": "Nhap nam:  2016\n"
        },
        {
          "name": "stdout",
          "output_type": "stream",
          "text": "'2016' la nam nhuan\n"
        }
      ],
      "execution_count": 22
    },
    {
      "id": "d5fb20b7-f13a-4431-a264-cef4bb4c0998",
      "cell_type": "code",
      "source": "dict = {\n    0: \"Khong\",\n    1: \"Mot\",\n    2: \"Hai\",\n    3: \"Ba\",\n    4: \"Bon\",\n    5: \"Nam\",\n    6: \"Sau\",\n    7: \"Bay\",\n    8: \"Tam\",\n    9: \"Chin\",\n}\nx = int(input(\"Nhap so: \"))\nprint(dict[x])",
      "metadata": {
        "trusted": true
      },
      "outputs": [
        {
          "output_type": "stream",
          "name": "stdin",
          "text": "Nhap so:  1\n"
        },
        {
          "name": "stdout",
          "output_type": "stream",
          "text": "Mot\n"
        }
      ],
      "execution_count": 23
    },
    {
      "id": "420558f3-9f29-47a2-bc39-bd404679f14b",
      "cell_type": "code",
      "source": "x = float(input(\"Nhap diem: \"))\nif x >= 4: print(\"Qua mon\")\nelse: print(\"Hoc lai\")",
      "metadata": {
        "trusted": true
      },
      "outputs": [
        {
          "output_type": "stream",
          "name": "stdin",
          "text": "Nhap diem:  10\n"
        },
        {
          "name": "stdout",
          "output_type": "stream",
          "text": "Qua mon\n"
        }
      ],
      "execution_count": 25
    },
    {
      "id": "b221e343-5067-4239-94cd-731cddb52d12",
      "cell_type": "code",
      "source": "from datetime import date\ncurrent_date = date.today()\n\ncurrent_year = current_date.year\n\nn = int(input(\"Nhap nam sinh: \"))\ntuoi = abs(n - current_year)\nprint(f\"Tuoi hien tai: '{tuoi}'\")",
      "metadata": {
        "trusted": true
      },
      "outputs": [
        {
          "output_type": "stream",
          "name": "stdin",
          "text": "Nhap nam sinh:  2000\n"
        },
        {
          "name": "stdout",
          "output_type": "stream",
          "text": "Tuoi hien tai: '25'\n"
        }
      ],
      "execution_count": 28
    }
  ]
}
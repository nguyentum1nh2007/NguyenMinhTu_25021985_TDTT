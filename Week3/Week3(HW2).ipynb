{
  "metadata": {
    "kernelspec": {
      "name": "python",
      "display_name": "Python (Pyodide)",
      "language": "python"
    },
    "language_info": {
      "codemirror_mode": {
        "name": "python",
        "version": 3
      },
      "file_extension": ".py",
      "mimetype": "text/x-python",
      "name": "python",
      "nbconvert_exporter": "python",
      "pygments_lexer": "ipython3",
      "version": "3.8"
    }
  },
  "nbformat_minor": 5,
  "nbformat": 4,
  "cells": [
    {
      "id": "9b73dade-39e2-4470-acbf-c53ceb4a33a7",
      "cell_type": "code",
      "source": "a, b = input(\"Nhap 2 canh hinh chu nhat: \").split(\" \")\nP = (int(a)+int(b))*2\nS = int(a)*int(b)\nprint(f\"Chu vi: '{P}'\")\nprint(f\"Dien tich: '{S}'\")",
      "metadata": {
        "trusted": true
      },
      "outputs": [
        {
          "output_type": "stream",
          "name": "stdin",
          "text": "Nhap 2 canh hinh chu nhat:  2 3\n"
        },
        {
          "name": "stdout",
          "output_type": "stream",
          "text": "Chu vi: '10'\nDien tich: '6'\n"
        }
      ],
      "execution_count": 1
    },
    {
      "id": "a177de34-f579-4fc6-8dfb-b8172b107556",
      "cell_type": "code",
      "source": "x = int(input(\"Nhap ban kinh: \"))\nP = x*2*3.14\nS = x*x*3.14\nprint(f\"Chu vi: '{P}'\")\nprint(f\"Dien tich: '{S}'\")",
      "metadata": {
        "trusted": true
      },
      "outputs": [
        {
          "output_type": "stream",
          "name": "stdin",
          "text": "Nhap ban kinh:  3\n"
        },
        {
          "name": "stdout",
          "output_type": "stream",
          "text": "Chu vi: '18.84'\nDien tich: '28.26'\n"
        }
      ],
      "execution_count": 2
    },
    {
      "id": "f8b400b8-aece-424f-9489-69bf4658e172",
      "cell_type": "code",
      "source": "\na, b, c = input(\"Nhap 3 so: \").split(\" \")\nif int(a) + int(b) < int(c) or int(a) + int(c) < int(b) or int(b) + int(c) < int(a):\n    print(\"Khong phai tam giac\")\nelse:\n    if a == b == c: print(\"Tam giac deu\")\n    elif a == b or b == c or a == c: print(\"Tam giac can\")\n    elif int(a)**2 + int(b)**2 == int(c)**2: print(\"Tam giac vuong\")\n    else: print(\"Tam giac thuong\")\nP = (int(a)+int(b)+int(c))/2\nS = (P*(P-int(a))*(P-int(b))*(P-int(c)))**.5\nprint(f\"Chu vi: '{P*2}'\")\nprint(f\"Dien tich: '{S}'\")",
      "metadata": {
        "trusted": true
      },
      "outputs": [
        {
          "output_type": "stream",
          "name": "stdin",
          "text": "Nhap 3 so:  1 1 1\n"
        },
        {
          "name": "stdout",
          "output_type": "stream",
          "text": "Tam giac deu\nChu vi: '3.0'\nDien tich: '0.4330127018922193'\n"
        }
      ],
      "execution_count": 3
    },
    {
      "id": "45f429b6-0527-4f84-9ed2-65b6da003538",
      "cell_type": "code",
      "source": "a, b = input(\"Nhap tham so lan luot: \").split(\" \")\nprint(f\"Dang phuong trinh y = {a}x + {b}\")\nx = -int(b)/int(a)\nprint(f\"Nghiem: {x}\")",
      "metadata": {
        "trusted": true
      },
      "outputs": [
        {
          "output_type": "stream",
          "name": "stdin",
          "text": "Nhap tham so lan luot:  2 -3\n"
        },
        {
          "name": "stdout",
          "output_type": "stream",
          "text": "Dang phuong trinh y = 2x + -3\nNghiem: '1.5'\n"
        }
      ],
      "execution_count": 10
    },
    {
      "id": "d51d02f9-f20b-41b4-a920-06d3f2a813aa",
      "cell_type": "code",
      "source": "a, b, c = input(\"Nhap tham so lan luot: \").split(\" \")\nprint(f\"Dang phuong trinh y = {a}x**2 + {b}x + {c}\")\ndelta = (int(b)**2 - 4*int(a)*int(c))**0.5\nx1 = (-int(b) + delta)/(2*int(a))\nx2 = (-int(b) - delta)/(2*int(a))\nprint(f\"Nghiem: {x1} va {x2}\")",
      "metadata": {
        "trusted": true
      },
      "outputs": [
        {
          "output_type": "stream",
          "name": "stdin",
          "text": "Nhap tham so lan luot:  1 2 1\n"
        },
        {
          "name": "stdout",
          "output_type": "stream",
          "text": "Dang phuong trinh y = 1x**2 + 2x + 1\nNghiem: -1.0 va -1.0\n"
        }
      ],
      "execution_count": 12
    },
    {
      "id": "e1befefc-ae48-4a66-8736-88b55c956c89",
      "cell_type": "code",
      "source": "a, b, c, d = input(\"Nhap so: \").split(\" \")\nprint(\"Gia tri lon nhat:\" +\" \"+ str(max(int(a), int(b), int(c), int(d))))",
      "metadata": {
        "trusted": true
      },
      "outputs": [
        {
          "output_type": "stream",
          "name": "stdin",
          "text": "Nhap so:  2 3 4 1\n"
        },
        {
          "name": "stdout",
          "output_type": "stream",
          "text": "Gia tri lon nhat:4\n"
        }
      ],
      "execution_count": 15
    },
    {
      "id": "178025e8-58d9-4ee5-b650-a66e316fe5c8",
      "cell_type": "code",
      "source": "a, b, c, d = input(\"Nhap so: \").split(\" \")\nprint(\"Gia tri nho nhat:\" +\" \"+ str(min(int(a), int(b), int(c), int(d))))",
      "metadata": {
        "trusted": true
      },
      "outputs": [
        {
          "output_type": "stream",
          "name": "stdin",
          "text": "Nhap so:  2 4 3 1\n"
        },
        {
          "name": "stdout",
          "output_type": "stream",
          "text": "Gia tri nho nhat:1\n"
        }
      ],
      "execution_count": 16
    },
    {
      "id": "a1d22397-9297-4031-bf5a-1a21a2a813a7",
      "cell_type": "code",
      "source": "a, b, m = input(\"Phuong trinh 1: \").split(\" \")\nc, d, n = input(\"Phuong trinh 2: \").split(\" \")\nx = 0 \ny = 0\nif int(a)/int(c) == int(b)/int(d) != int(m)/int(n): print(\"Vo nghiem\")\nelif int(a)/int(c) == int(b)/int(d) == int(m)/int(n): print(\"Vo so nghiem\")\nelse: \n    x = ((int(m)/int(b))-(int(n)/int(d)))/((int(a)/int(b))-(int(c)/int(d)))\n    y = (int(m)-x*int(a))/int(b)\n    print(f\"Nghiem: {x}, {y}\")",
      "metadata": {
        "trusted": true
      },
      "outputs": [
        {
          "output_type": "stream",
          "name": "stdin",
          "text": "Phuong trinh 1:  1 2 3\nPhuong trinh 2:  3 4 5\n"
        },
        {
          "name": "stdout",
          "output_type": "stream",
          "text": "Nghiem: -1.0,2.0\n"
        }
      ],
      "execution_count": 18
    },
    {
      "id": "224ce793-8a8b-4d50-81c9-1ac9377248c8",
      "cell_type": "code",
      "source": "x = int(input(\"Nhap: \"))\nh = x//3600\nm = (x - h * 3600)//60\ns = (x - h * 3600 - m * 60)\nprint(f\"{h} gio {m} phut {s} giay\")",
      "metadata": {
        "trusted": true
      },
      "outputs": [
        {
          "output_type": "stream",
          "name": "stdin",
          "text": "Nhap:  3661\n"
        },
        {
          "name": "stdout",
          "output_type": "stream",
          "text": "1 gio 1 phut 1 giay\n"
        }
      ],
      "execution_count": 22
    },
    {
      "id": "86409584-e5a2-4136-be9e-1aca1f8ba634",
      "cell_type": "code",
      "source": "r = int(input(\"Ban kinh: \"))\nx0, y0 = input(\"Tam duong tron: \").split(\" \")\nx1, y1 = input(\"Diem A: \").split(\" \")\nd = ((int(x0)-int(x1))**2 + (int(y0)-int(y1))**2)**0.5\nif d > r: print(\"Khong thuoc duong tron\")\nelse: print(\"Thuon duong tron\")",
      "metadata": {
        "trusted": true
      },
      "outputs": [
        {
          "output_type": "stream",
          "name": "stdin",
          "text": "Ban kinh:  3\nTam duong tron:  0 0\nDiem A:  2 3\n"
        },
        {
          "name": "stdout",
          "output_type": "stream",
          "text": "Khong thuoc duong tron\n"
        }
      ],
      "execution_count": 24
    },
    {
      "id": "9f445489-3c0f-4eca-8ca2-57eafb41ec91",
      "cell_type": "code",
      "source": "x, y = input(\"Nhap x va y: \")\nprint(f\"Ket qua {int(x)**int(y)}\")",
      "metadata": {
        "trusted": true
      },
      "outputs": [],
      "execution_count": null
    }
  ]
}
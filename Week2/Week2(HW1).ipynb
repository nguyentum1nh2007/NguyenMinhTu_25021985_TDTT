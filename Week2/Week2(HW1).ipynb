{
  "metadata": {
    "kernelspec": {
      "name": "python",
      "display_name": "Python (Pyodide)",
      "language": "python"
    },
    "language_info": {
      "codemirror_mode": {
        "name": "python",
        "version": 3
      },
      "file_extension": ".py",
      "mimetype": "text/x-python",
      "name": "python",
      "nbconvert_exporter": "python",
      "pygments_lexer": "ipython3",
      "version": "3.8"
    }
  },
  "nbformat_minor": 5,
  "nbformat": 4,
  "cells": [
    {
      "id": "49b8ccfe-b835-4af2-84d2-0bd855ee0884",
      "cell_type": "code",
      "source": "n = int(input(\"Nhap: \"))\nprint(n*2)",
      "metadata": {
        "trusted": true
      },
      "outputs": [
        {
          "output_type": "stream",
          "name": "stdin",
          "text": "Nhap:  2\n"
        },
        {
          "name": "stdout",
          "output_type": "stream",
          "text": "4\n"
        }
      ],
      "execution_count": 1
    },
    {
      "id": "f7713ecd-905e-4fe4-931a-8d34986dec0d",
      "cell_type": "code",
      "source": "b, a = input(\"Nhap chieu dai va chieu rong: \").split(\" \")\nprint(int(a)*int(b) - int(a)*int(a)*3.14*0.25)",
      "metadata": {
        "trusted": true
      },
      "outputs": [
        {
          "output_type": "stream",
          "name": "stdin",
          "text": "Nhap chieu dai va chieu rong:  3 2\n"
        },
        {
          "name": "stdout",
          "output_type": "stream",
          "text": "2.86\n"
        }
      ],
      "execution_count": 6
    },
    {
      "id": "1786a25a-6655-493b-b221-f547e750e196",
      "cell_type": "code",
      "source": "e = str(input(\"Nhap: \"))\nif e.islower(): print(e.upper())\nelse: print(e.lower())",
      "metadata": {
        "trusted": true
      },
      "outputs": [
        {
          "output_type": "stream",
          "name": "stdin",
          "text": "Nhap:  E\n"
        },
        {
          "name": "stdout",
          "output_type": "stream",
          "text": "e\n"
        }
      ],
      "execution_count": 8
    },
    {
      "id": "6b8fd80d-c557-4142-980f-c5ad27a24ebb",
      "cell_type": "code",
      "source": "c = str(input(\"Nhap: \"))\nif c.isalpha(): print(f\"'{c}'la ki tu alphabet\")\nelse: print(f\"'{c}' khong la ki tu alphabet\")",
      "metadata": {
        "trusted": true
      },
      "outputs": [
        {
          "output_type": "stream",
          "name": "stdin",
          "text": "Nhap:  2\n"
        },
        {
          "name": "stdout",
          "output_type": "stream",
          "text": "'2' khong la ki tu alphabet\n"
        }
      ],
      "execution_count": 11
    },
    {
      "id": "ff7f6239-02d6-4518-b688-b94b2c1b017b",
      "cell_type": "code",
      "source": "c = input(\"Nhap: \")\nif c.islower(): \n    raise Exception(\"Uppercase only!\")\nelif c == \"A\": print(\"Truong hop dac biet\")\nelse: print(chr(int(ord(c))-1))",
      "metadata": {
        "trusted": true
      },
      "outputs": [
        {
          "output_type": "stream",
          "name": "stdin",
          "text": "Nhap:  B\n"
        },
        {
          "name": "stdout",
          "output_type": "stream",
          "text": "A\n"
        }
      ],
      "execution_count": 20
    },
    {
      "id": "f5a14e0b-fa6a-4033-8de8-dbac03e60995",
      "cell_type": "code",
      "source": "import math\na, b, c = input(\"Nhap: \").split()\na, b, c = int(a), int(b), int(c)\np = (a+b+c)/2\nif a + b >= c and a + c >= b and b + c >= a:\n    print(math.sqrt(p*(p-a)*(p-b)*(p-c)))\nelse: print(\"Khong phai tam giac\")",
      "metadata": {
        "trusted": true
      },
      "outputs": [
        {
          "output_type": "stream",
          "name": "stdin",
          "text": "Nhap:  2 4 5\n"
        },
        {
          "name": "stdout",
          "output_type": "stream",
          "text": "3.799671038392666\n"
        }
      ],
      "execution_count": 23
    },
    {
      "id": "fcee22ea-9106-4ec8-9be0-685d2c6025e3",
      "cell_type": "code",
      "source": "x = str(input(\"Nhap: \"))\nif len(x) < 20: print(\"Khong hop le\")\nelse: \n    print(f\"'{x[5-1]}' la chu cai thu 5\")\n    print(f\"'{x[9-1]}' la chu cai thu 9\")",
      "metadata": {
        "trusted": true
      },
      "outputs": [
        {
          "output_type": "stream",
          "name": "stdin",
          "text": "Nhap:  amiobnaoinioanfianwifnwanfianfionwapfnpafnpanfpa\n"
        },
        {
          "name": "stdout",
          "output_type": "stream",
          "text": "'b' la chu cai thu 5\n'i' la chu cai thu 9\n"
        }
      ],
      "execution_count": 27
    },
    {
      "id": "3bdfdc15-593b-4e7a-8d0e-4beae88dc412",
      "cell_type": "code",
      "source": "ten = str(input(\"Ten chu ho: \"))\nthang_trc = int(input(\"Chi so thang truoc: \"))\nthang_sau = int(input(\"Chi so thang sau: \"))\nprint(f\" Ho va ten: '{ten}'\")\nhieu = abs(thang_trc - thang_sau)\ntien_dien = 0\ncount = 0\nwhile hieu >= 50:\n    count += 1\n    if count == 1: \n        tien_dien += 50*1984\n        hieu -= 50\n    elif count == 2: \n        tien_dien += 50*2050\n        hieu -= 50\n    elif count == 4: \n        tien_dien += 100*2380\n        hieu -= 100\n    elif count == 6: \n        tien_dien += 100*2998\n        hieu -= 100\n    elif count == 8:\n        tien_dien += 100*3350\n        hieu -= 100\n    elif count > 8:\n        break\nif hieu > 0: \n    tien_dien = tien_dien + hieu*3460\nprint(tien_dien*1.08)",
      "metadata": {
        "trusted": true
      },
      "outputs": [
        {
          "output_type": "stream",
          "name": "stdin",
          "text": "Ten chu ho:  ddd\nChi so thang truoc:  1020\nChi so thang sau:  1070\n"
        },
        {
          "name": "stdout",
          "output_type": "stream",
          "text": " Ho va ten: 'ddd'\n107136.0\n"
        }
      ],
      "execution_count": 33
    }
  ]
}

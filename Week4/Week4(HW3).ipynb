{
 "cells": [
  {
   "cell_type": "code",
   "execution_count": 1,
   "id": "82f8c575",
   "metadata": {},
   "outputs": [
    {
     "name": "stdout",
     "output_type": "stream",
     "text": [
      "1\n",
      "3\n",
      "5\n",
      "7\n",
      "9\n",
      "11\n",
      "13\n",
      "15\n",
      "17\n",
      "19\n",
      "21\n",
      "23\n",
      "25\n",
      "27\n",
      "29\n",
      "31\n",
      "33\n",
      "35\n",
      "37\n",
      "39\n",
      "41\n",
      "43\n",
      "45\n",
      "47\n",
      "49\n",
      "51\n",
      "53\n",
      "55\n",
      "57\n",
      "59\n",
      "61\n",
      "63\n",
      "65\n",
      "67\n",
      "69\n",
      "71\n",
      "73\n",
      "75\n",
      "77\n",
      "79\n",
      "81\n",
      "83\n",
      "85\n",
      "87\n",
      "89\n",
      "91\n",
      "93\n",
      "95\n",
      "97\n",
      "99\n"
     ]
    }
   ],
   "source": [
    "for i in range(100):\n",
    "    if i % 2 != 0:\n",
    "        print(i)"
   ]
  },
  {
   "cell_type": "code",
   "execution_count": 2,
   "id": "105a7723",
   "metadata": {},
   "outputs": [
    {
     "name": "stdout",
     "output_type": "stream",
     "text": [
      "0\n",
      "6\n",
      "12\n",
      "18\n",
      "24\n",
      "30\n",
      "36\n",
      "42\n",
      "48\n",
      "54\n",
      "60\n",
      "66\n",
      "72\n",
      "78\n",
      "84\n",
      "90\n",
      "96\n"
     ]
    }
   ],
   "source": [
    "for i in range(100):\n",
    "    if i % 6 == 0:\n",
    "        print(i)"
   ]
  },
  {
   "cell_type": "code",
   "execution_count": 9,
   "id": "d1630b99",
   "metadata": {},
   "outputs": [
    {
     "name": "stdout",
     "output_type": "stream",
     "text": [
      "3 * 1 = 3\n",
      "3 * 2 = 6\n",
      "3 * 3 = 9\n",
      "3 * 4 = 12\n",
      "3 * 5 = 15\n",
      "3 * 6 = 18\n",
      "3 * 7 = 21\n",
      "3 * 8 = 24\n",
      "3 * 9 = 27\n",
      "3 * 10 = 30\n"
     ]
    }
   ],
   "source": [
    "x = int(input())\n",
    "for i in range(1, 11):\n",
    "    print(f\"{x} * {i} = {x*i}\")"
   ]
  },
  {
   "cell_type": "code",
   "execution_count": 13,
   "id": "4938e824",
   "metadata": {},
   "outputs": [
    {
     "name": "stdout",
     "output_type": "stream",
     "text": [
      "   *   \n",
      "  * *   \n",
      " * * *   \n",
      "*******\n"
     ]
    }
   ],
   "source": [
    "x = int(input(\"Nhap chieu cao: \"))\n",
    "for i in range(1, x):\n",
    "    print(\" \"*(x-i) + \"* \"*i + \" \"*(x-2))\n",
    "print(\"*\"*(2*x - 1))"
   ]
  },
  {
   "cell_type": "code",
   "execution_count": 15,
   "id": "47b9f205",
   "metadata": {},
   "outputs": [
    {
     "name": "stdout",
     "output_type": "stream",
     "text": [
      "15\n"
     ]
    }
   ],
   "source": [
    "x = int(input())\n",
    "sum = 0\n",
    "for i in range(1, x+1):\n",
    "    sum += i\n",
    "print(sum)"
   ]
  },
  {
   "cell_type": "code",
   "execution_count": 18,
   "id": "c319a596",
   "metadata": {},
   "outputs": [
    {
     "name": "stdout",
     "output_type": "stream",
     "text": [
      "1\n",
      "2\n",
      "3\n",
      "6\n",
      "So uoc duong: 4\n"
     ]
    }
   ],
   "source": [
    "x = int(input())\n",
    "count = 0\n",
    "for i in range(1, x+1):\n",
    "    if x % i == 0:\n",
    "        print(i)\n",
    "        count += 1\n",
    "print(f\"So uoc duong: {count}\")"
   ]
  },
  {
   "cell_type": "code",
   "execution_count": 21,
   "id": "a111dfd8",
   "metadata": {},
   "outputs": [
    {
     "name": "stdout",
     "output_type": "stream",
     "text": [
      "So uoc duong: 4\n"
     ]
    }
   ],
   "source": [
    "x = int(input())\n",
    "count = 0\n",
    "for i in range(1, x+1):\n",
    "    if x % i == 0:\n",
    "        count += 1\n",
    "print(f\"So uoc duong: {count}\")"
   ]
  },
  {
   "cell_type": "code",
   "execution_count": 20,
   "id": "d6b725b7",
   "metadata": {},
   "outputs": [
    {
     "name": "stdout",
     "output_type": "stream",
     "text": [
      "1\n",
      "2\n",
      "3\n",
      "6\n"
     ]
    }
   ],
   "source": [
    "a, b = input().split(\" \")\n",
    "a, b = int(a), int(b)\n",
    "for i in range(1, max(a, b) + 1):\n",
    "    if a % i == 0 and b % i == 0:\n",
    "        print(i)"
   ]
  },
  {
   "cell_type": "code",
   "execution_count": 27,
   "id": "8bb36baf",
   "metadata": {},
   "outputs": [
    {
     "name": "stdout",
     "output_type": "stream",
     "text": [
      "False\n"
     ]
    }
   ],
   "source": [
    "x = int(input())\n",
    "print(x**0.5 % 1 == 0)"
   ]
  },
  {
   "cell_type": "code",
   "execution_count": 28,
   "id": "afa9c393",
   "metadata": {},
   "outputs": [
    {
     "name": "stdout",
     "output_type": "stream",
     "text": [
      "True\n"
     ]
    }
   ],
   "source": [
    "x = int(input())\n",
    "sum = 0\n",
    "for i in range(1, x):\n",
    "    if x % i == 0:\n",
    "        sum += i\n",
    "print(sum == x)"
   ]
  },
  {
   "cell_type": "code",
   "execution_count": 29,
   "id": "f390d813",
   "metadata": {},
   "outputs": [
    {
     "name": "stdout",
     "output_type": "stream",
     "text": [
      "Invalid\n",
      "Invalid\n",
      "Valid\n"
     ]
    }
   ],
   "source": [
    "while True:\n",
    "    x = int(input())\n",
    "    if x < 0: print(\"Invalid\")\n",
    "    else:\n",
    "        print(\"Valid\")\n",
    "        break"
   ]
  },
  {
   "cell_type": "code",
   "execution_count": 32,
   "id": "8b565606",
   "metadata": {},
   "outputs": [
    {
     "name": "stdout",
     "output_type": "stream",
     "text": [
      "6\n"
     ]
    }
   ],
   "source": [
    "n = int(input())\n",
    "sum = 0\n",
    "for i in range(1, n):\n",
    "    sum +=i\n",
    "    if sum >= n:\n",
    "        print(i-1)\n",
    "        break"
   ]
  },
  {
   "cell_type": "code",
   "execution_count": null,
   "id": "5e21d1cf",
   "metadata": {},
   "outputs": [
    {
     "name": "stdout",
     "output_type": "stream",
     "text": [
      "12\n",
      "3.0198773448773446\n"
     ]
    }
   ],
   "source": [
    "n = float(input())\n",
    "sum = 0\n",
    "count = 1\n",
    "while True:\n",
    "    sum += 1/count\n",
    "    count += 1\n",
    "    if sum >= n:\n",
    "        break\n",
    "print(count-1)"
   ]
  },
  {
   "cell_type": "code",
   "execution_count": 2,
   "id": "685ae365",
   "metadata": {},
   "outputs": [
    {
     "name": "stdout",
     "output_type": "stream",
     "text": [
      "Gia tri max: 7\n",
      "Gia tri min: 5\n"
     ]
    }
   ],
   "source": [
    "maximum = 0\n",
    "minimum = float('inf')\n",
    "while True:\n",
    "    x = int(input())\n",
    "    if x == -1:\n",
    "        break\n",
    "    else:\n",
    "        maximum = max(maximum, x)\n",
    "        minimum = min(minimum, x)\n",
    "print(f\"Gia tri max: {maximum}\")\n",
    "print(f\"Gia tri min: {minimum}\")"
   ]
  },
  {
   "cell_type": "code",
   "execution_count": 3,
   "id": "4dd1a6df",
   "metadata": {},
   "outputs": [
    {
     "name": "stdout",
     "output_type": "stream",
     "text": [
      "6\n"
     ]
    }
   ],
   "source": [
    "n = int(input())\n",
    "print(len(str(n)))"
   ]
  },
  {
   "cell_type": "code",
   "execution_count": 4,
   "id": "738c3189",
   "metadata": {},
   "outputs": [
    {
     "name": "stdout",
     "output_type": "stream",
     "text": [
      "So chan: 4\n",
      "So le: 1\n"
     ]
    }
   ],
   "source": [
    "odd_c = 0\n",
    "even_c = 0\n",
    "n = input()\n",
    "for i in n:\n",
    "    if int(i) % 2 == 0: even_c += 1\n",
    "    elif int(i) % 2 != 0: odd_c += 1\n",
    "print(f\"So chan: {even_c}\")\n",
    "print(f\"So le: {odd_c}\")"
   ]
  },
  {
   "cell_type": "code",
   "execution_count": 5,
   "id": "04278280",
   "metadata": {},
   "outputs": [
    {
     "name": "stdout",
     "output_type": "stream",
     "text": [
      "5\n"
     ]
    }
   ],
   "source": [
    "n = input()\n",
    "sum = 0\n",
    "for i in n:\n",
    "    sum += int(i)\n",
    "print(sum)"
   ]
  },
  {
   "cell_type": "code",
   "execution_count": 8,
   "id": "ea2754d1",
   "metadata": {},
   "outputs": [
    {
     "name": "stdout",
     "output_type": "stream",
     "text": [
      "True\n"
     ]
    }
   ],
   "source": [
    "n = int(input())\n",
    "temp = True\n",
    "for i in range(1, n):\n",
    "    if 3**i < n: continue\n",
    "    elif 3**i == n: \n",
    "        temp = True\n",
    "        break\n",
    "    else: \n",
    "        temp = False\n",
    "        break\n",
    "print(temp)"
   ]
  },
  {
   "cell_type": "code",
   "execution_count": 21,
   "id": "ed51242a",
   "metadata": {},
   "outputs": [
    {
     "name": "stdout",
     "output_type": "stream",
     "text": [
      "89\n"
     ]
    }
   ],
   "source": [
    "n = int(input())\n",
    "a = 0\n",
    "b = 1\n",
    "next = b  \n",
    "count = 1\n",
    "\n",
    "while count <= n:\n",
    "    count += 1\n",
    "    a, b = b, next\n",
    "    next = a + b\n",
    "    if next > n:\n",
    "        print(a)\n",
    "        break"
   ]
  },
  {
   "cell_type": "code",
   "execution_count": 30,
   "id": "24cfac20",
   "metadata": {},
   "outputs": [
    {
     "name": "stdout",
     "output_type": "stream",
     "text": [
      "4\n"
     ]
    }
   ],
   "source": [
    "def prime_number(a):\n",
    "    temp = True\n",
    "    if a == 1 or a == 0:\n",
    "        temp = False\n",
    "    else:\n",
    "        for i in range(2, a):\n",
    "            if a % i == 0:\n",
    "                temp = False\n",
    "                break\n",
    "    return temp\n",
    "\n",
    "n = input()\n",
    "count = 0\n",
    "for x in n:\n",
    "    if prime_number(int(x)):\n",
    "        count += 1\n",
    "print(count)"
   ]
  }
 ],
 "metadata": {
  "kernelspec": {
   "display_name": "Python 3",
   "language": "python",
   "name": "python3"
  },
  "language_info": {
   "codemirror_mode": {
    "name": "ipython",
    "version": 3
   },
   "file_extension": ".py",
   "mimetype": "text/x-python",
   "name": "python",
   "nbconvert_exporter": "python",
   "pygments_lexer": "ipython3",
   "version": "3.13.7"
  }
 },
 "nbformat": 4,
 "nbformat_minor": 5
}

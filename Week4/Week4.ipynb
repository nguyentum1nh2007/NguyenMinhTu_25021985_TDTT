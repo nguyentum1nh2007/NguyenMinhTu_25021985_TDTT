{
 "cells": [
  {
   "cell_type": "code",
   "execution_count": 1,
   "id": "9932c574",
   "metadata": {},
   "outputs": [
    {
     "name": "stdout",
     "output_type": "stream",
     "text": [
      "10\n"
     ]
    }
   ],
   "source": [
    "n = int(input())\n",
    "sum = 0\n",
    "for i in range(n+1):\n",
    "    sum += i\n",
    "print(sum)"
   ]
  },
  {
   "cell_type": "code",
   "execution_count": 3,
   "id": "a2461df3",
   "metadata": {},
   "outputs": [
    {
     "name": "stdout",
     "output_type": "stream",
     "text": [
      "False\n"
     ]
    }
   ],
   "source": [
    "def prime_number(a):\n",
    "    temp = True\n",
    "    if a == 1 or a == 0:\n",
    "        temp = False\n",
    "    else:\n",
    "        for i in range(2, a):\n",
    "            if a % i == 0:\n",
    "                temp = False\n",
    "                break\n",
    "    return temp\n",
    "n = 0\n",
    "while True:\n",
    "    x = int(input())\n",
    "    if x < 0:\n",
    "        n = x\n",
    "        break\n",
    "print(prime_number(abs(n)))"
   ]
  },
  {
   "cell_type": "code",
   "execution_count": 4,
   "id": "59a53cf1",
   "metadata": {},
   "outputs": [
    {
     "name": "stdout",
     "output_type": "stream",
     "text": [
      "6\n"
     ]
    }
   ],
   "source": [
    "x = int(input())\n",
    "res = 1\n",
    "for i in range(1, x+1):\n",
    "    res *= i\n",
    "print(res)"
   ]
  },
  {
   "cell_type": "code",
   "execution_count": 5,
   "id": "1a30b556",
   "metadata": {},
   "outputs": [
    {
     "name": "stdout",
     "output_type": "stream",
     "text": [
      "3\n"
     ]
    }
   ],
   "source": [
    "x = int(input())\n",
    "print(len(str(abs(x))))"
   ]
  },
  {
   "cell_type": "code",
   "execution_count": 10,
   "id": "5478434f",
   "metadata": {},
   "outputs": [
    {
     "name": "stdout",
     "output_type": "stream",
     "text": [
      "I've found the meaning of life!\n"
     ]
    }
   ],
   "source": [
    "n = int(input())\n",
    "arr = str(input()).split(\" \")\n",
    "temp = arr[:n]\n",
    "if \"42\" in temp:\n",
    "    print(\"I've found the meaning of life!\")\n",
    "else:\n",
    "    print(\"It's a joke!\")"
   ]
  },
  {
   "cell_type": "code",
   "execution_count": 11,
   "id": "efde183e",
   "metadata": {},
   "outputs": [
    {
     "name": "stdout",
     "output_type": "stream",
     "text": [
      "12\n"
     ]
    }
   ],
   "source": [
    "def prime_number(a):\n",
    "    temp = True\n",
    "    if a == 1 or a == 0:\n",
    "        temp = False\n",
    "    else:\n",
    "        for i in range(2, a):\n",
    "            if a % i == 0:\n",
    "                temp = False\n",
    "                break\n",
    "    return temp\n",
    "a, b = input().split()\n",
    "a, b = int(a), int(b)\n",
    "sum = 0\n",
    "for i in range(a, b+1):\n",
    "    if prime_number(i):\n",
    "        sum += i\n",
    "print(sum)"
   ]
  },
  {
   "cell_type": "code",
   "execution_count": 16,
   "id": "b3e4d91b",
   "metadata": {},
   "outputs": [
    {
     "name": "stdout",
     "output_type": "stream",
     "text": [
      "3\n"
     ]
    }
   ],
   "source": [
    "def prime_number(a):\n",
    "    temp = True\n",
    "    if a == 1 or a == 0:\n",
    "        temp = False\n",
    "    else:\n",
    "        for i in range(2, a):\n",
    "            if a % i == 0:\n",
    "                temp = False\n",
    "                break\n",
    "    return temp\n",
    "x = int(input())\n",
    "if x < 2: raise Exception(\"Invalid Input!\")\n",
    "max_numb = 0\n",
    "for i in range(1, n):\n",
    "    if x % i == 0 and prime_number(i):\n",
    "        max_numb = i\n",
    "print(max_numb)"
   ]
  },
  {
   "cell_type": "code",
   "execution_count": 18,
   "id": "bde6a710",
   "metadata": {},
   "outputs": [
    {
     "name": "stdout",
     "output_type": "stream",
     "text": [
      "Số bước cần thực hiện: 1\n",
      "Giá trị palindrome thu được: 121\n"
     ]
    }
   ],
   "source": [
    "def is_palindrome(num):\n",
    "  return str(num) == str(num)[::-1]\n",
    "\n",
    "def reverse_number(num):\n",
    "  return int(str(num)[::-1])\n",
    "\n",
    "def solve_reverse_add_palindrome():\n",
    "    n = int(input(\"Nhập số nguyên dương n: \"))\n",
    "    if n <= 0:\n",
    "        print(\"Vui lòng nhập một số lớn hơn 0.\")\n",
    "\n",
    "    steps = 0\n",
    "    while not is_palindrome(n):\n",
    "        reversed_n = reverse_number(n)\n",
    "        n = n + reversed_n\n",
    "        steps += 1\n",
    "    print(f\"Số bước cần thực hiện: {steps}\")\n",
    "    print(f\"Giá trị palindrome thu được: {n}\")\n",
    "\n",
    "solve_reverse_add_palindrome()"
   ]
  },
  {
   "cell_type": "code",
   "execution_count": 39,
   "id": "e5317c62",
   "metadata": {},
   "outputs": [
    {
     "name": "stdout",
     "output_type": "stream",
     "text": [
      "1 4 9 16 25 "
     ]
    }
   ],
   "source": [
    "def is_perfect_square(n):\n",
    "    if n == 1: return True\n",
    "    for i in range(2, int(n/2)+1):\n",
    "        if i**2 == n:\n",
    "            return True\n",
    "    return False\n",
    "\n",
    "def has_duplicate_digits_set(number):\n",
    "    s_number = str(number)\n",
    "    unique_digits = set(s_number)\n",
    "    return len(unique_digits) < len(s_number)\n",
    "\n",
    "n = int(input())\n",
    "for i in range(1, n+1):\n",
    "    if is_perfect_square(i) and not has_duplicate_digits_set(i):\n",
    "        print(i, end = \" \")\n"
   ]
  },
  {
   "cell_type": "code",
   "execution_count": null,
   "id": "0b52b70e",
   "metadata": {},
   "outputs": [
    {
     "data": {
      "text/plain": [
       "20"
      ]
     },
     "execution_count": 55,
     "metadata": {},
     "output_type": "execute_result"
    }
   ],
   "source": [
    "def collatz(number):\n",
    "    if number % 2 == 0: \n",
    "        return number // 2\n",
    "    else: \n",
    "        return 3 * number + 1\n",
    "\n",
    "def length_of_collatz_sequence(start_number):\n",
    "    if start_number <= 0:\n",
    "        raise ValueError(\"Starting number must be a positive integer.\")\n",
    "\n",
    "    sequence = [start_number]\n",
    "    current_number = start_number\n",
    "\n",
    "    while current_number != 1:\n",
    "        current_number = collatz(current_number)\n",
    "        sequence.append(current_number)\n",
    "    return len(sequence)\n",
    "x = int(input())\n",
    "max_val = 0\n",
    "res = 0\n",
    "while x > 0:\n",
    "    if length_of_collatz_sequence(x) >= max_val:\n",
    "        res = x\n",
    "        max_val = length_of_collatz_sequence(x)\n",
    "    x -= 1\n",
    "\n",
    "print(res)"
   ]
  },
  {
   "cell_type": "code",
   "execution_count": 56,
   "id": "1e468a4b",
   "metadata": {},
   "outputs": [
    {
     "name": "stdout",
     "output_type": "stream",
     "text": [
      "2\n"
     ]
    }
   ],
   "source": [
    "def is_even_number(a):\n",
    "    return a % 2 == 0\n",
    "n = int(input())\n",
    "count = 0\n",
    "for i in range(1, n+1):\n",
    "    if n % i == 0 and is_even_number(i):\n",
    "        count += 1\n",
    "print(count)"
   ]
  },
  {
   "cell_type": "code",
   "execution_count": 59,
   "id": "54cea1db",
   "metadata": {},
   "outputs": [
    {
     "name": "stdout",
     "output_type": "stream",
     "text": [
      "414\n"
     ]
    }
   ],
   "source": [
    "X = int(input())\n",
    "n = int(input())\n",
    "print(int(X * (1+0.007)**n))"
   ]
  },
  {
   "cell_type": "code",
   "execution_count": 62,
   "id": "10f42831",
   "metadata": {},
   "outputs": [
    {
     "name": "stdout",
     "output_type": "stream",
     "text": [
      "False\n"
     ]
    }
   ],
   "source": [
    "def sum_of_all_divisors(a):\n",
    "    temp = 0\n",
    "    for i in range(1, a):\n",
    "        if a % i == 0:\n",
    "            temp += i\n",
    "    return temp\n",
    "\n",
    "a, b = input().split(\" \")\n",
    "a, b = int(a), int(b)\n",
    "\n",
    "print(sum_of_all_divisors(a) == b and sum_of_all_divisors(b) == a)\n",
    "\n"
   ]
  },
  {
   "cell_type": "code",
   "execution_count": 64,
   "id": "35252a6d",
   "metadata": {},
   "outputs": [
    {
     "name": "stdout",
     "output_type": "stream",
     "text": [
      "1\n"
     ]
    }
   ],
   "source": [
    "def gcd(a, b):\n",
    "    if (b == 0):\n",
    "        return a;\n",
    "    return gcd(b, a % b);\n",
    "\n",
    "a, b = input().split(\" \")\n",
    "a, b = int(a), int(b)\n",
    "\n",
    "print(gcd(a,b))"
   ]
  },
  {
   "cell_type": "code",
   "execution_count": 66,
   "id": "09ea670c",
   "metadata": {},
   "outputs": [
    {
     "name": "stdout",
     "output_type": "stream",
     "text": [
      "Số gà: 22, Số chó: 14\n"
     ]
    }
   ],
   "source": [
    "def giai_toan_ga_cho(tong_so_con, tong_so_chan):\n",
    "    tim_thay_dap_an = False\n",
    "    for so_luong_ga in range(tong_so_con + 1):\n",
    "        so_luong_cho = tong_so_con - so_luong_ga\n",
    "        \n",
    "        chan_tinh_toan = so_luong_ga * 2 + so_luong_cho * 4\n",
    "        \n",
    "        if chan_tinh_toan == tong_so_chan:\n",
    "            print(f\"Số gà: {so_luong_ga}, Số chó: {so_luong_cho}\")\n",
    "            tim_thay_dap_an = True\n",
    "            break \n",
    "\n",
    "    if not tim_thay_dap_an:\n",
    "        print(\"invalid\")\n",
    "\n",
    "a, b = input().split(\" \")\n",
    "a, b = int(a), int(b)\n",
    "\n",
    "giai_toan_ga_cho(a, b)"
   ]
  }
 ],
 "metadata": {
  "kernelspec": {
   "display_name": "Python 3",
   "language": "python",
   "name": "python3"
  },
  "language_info": {
   "codemirror_mode": {
    "name": "ipython",
    "version": 3
   },
   "file_extension": ".py",
   "mimetype": "text/x-python",
   "name": "python",
   "nbconvert_exporter": "python",
   "pygments_lexer": "ipython3",
   "version": "3.13.7"
  }
 },
 "nbformat": 4,
 "nbformat_minor": 5
}
